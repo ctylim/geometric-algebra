{
 "cells": [
  {
   "cell_type": "markdown",
   "metadata": {},
   "source": [
    "### Point Pairs: Intersection among 3 Spheres"
   ]
  },
  {
   "cell_type": "code",
   "execution_count": 1,
   "metadata": {},
   "outputs": [],
   "source": [
    "from clifford.g3c import *\n",
    "from numpy import e,pi"
   ]
  },
  {
   "cell_type": "code",
   "execution_count": 39,
   "metadata": {},
   "outputs": [
    {
     "name": "stdout",
     "output_type": "stream",
     "text": [
      "sphere1: -(1.5^e4) - (0.5^e5)\n",
      "sphere2: (3.0^e1) + (1.5^e4) + (2.5^e5)\n",
      "(3.0^e123) + (1.5^e234) + (4.5^e235)\n",
      "-(1.0^e1245)\n",
      "-(3.0^e12) + (1.5^e24) + (4.5^e25)\n"
     ]
    }
   ],
   "source": [
    "sphere1 = up(0) - einf\n",
    "print('sphere1:', sphere1)\n",
    "sphere2 = up(3 * e1) - 2.5 * einf\n",
    "print('sphere2:', sphere2)\n",
    "circle = (sphere1 ^ sphere2).dual()\n",
    "print(circle)\n",
    "plane = e3.dual()\n",
    "print(plane)\n",
    "pairs = (sphere1 ^ sphere2 ^ plane.dual()).dual()\n",
    "print(pairs)"
   ]
  },
  {
   "cell_type": "code",
   "execution_count": 40,
   "metadata": {},
   "outputs": [
    {
     "name": "stdout",
     "output_type": "stream",
     "text": [
      "DrawSphere(-(1.5^e4) - (0.5^e5),rgb(255,0,0));\n",
      "DrawSphere((3.0^e1) + (1.5^e4) + (2.5^e5),rgb(0,255,0));\n",
      "DrawCircle((3.0^e123) + (1.5^e234) + (4.5^e235),rgb(100,100,100));\n",
      "DrawPlane(-(1.0^e1245),rgb(255,255,0));\n",
      "DrawPointPair(-(3.0^e12) + (1.5^e24) + (4.5^e25),rgb(255,0,255));\n"
     ]
    }
   ],
   "source": [
    "from clifford.tools.g3c.GAOnline import *\n",
    "sc = GAScene()\n",
    "sc.add_sphere(sphere1, 'rgb(255,0,0)')\n",
    "sc.add_sphere(sphere2, 'rgb(0,255,0)')\n",
    "sc.add_circle(circle, 'rgb(100,100,100)')\n",
    "sc.add_plane(plane, 'rgb(255,255,0)')\n",
    "sc.add_point_pair(pairs, 'rgb(255,0,255)')\n",
    "print(sc)"
   ]
  }
 ],
 "metadata": {
  "kernelspec": {
   "display_name": "Python 3",
   "language": "python",
   "name": "python3"
  },
  "language_info": {
   "codemirror_mode": {
    "name": "ipython",
    "version": 3
   },
   "file_extension": ".py",
   "mimetype": "text/x-python",
   "name": "python",
   "nbconvert_exporter": "python",
   "pygments_lexer": "ipython3",
   "version": "3.6.3"
  }
 },
 "nbformat": 4,
 "nbformat_minor": 2
}
