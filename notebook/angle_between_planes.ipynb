{
 "cells": [
  {
   "cell_type": "code",
   "execution_count": 2,
   "metadata": {},
   "outputs": [],
   "source": [
    "from clifford.g3c import *\n",
    "from numpy import e,pi"
   ]
  },
  {
   "cell_type": "code",
   "execution_count": 41,
   "metadata": {},
   "outputs": [
    {
     "name": "stdout",
     "output_type": "stream",
     "text": [
      "(1.0^e1234) + (1.0^e1235) - (1.0^e1245)\n",
      "(1.0^e1234) + (1.0^e1235) - (1.0^e1245)\n"
     ]
    }
   ],
   "source": [
    "# z=1: n=(0,0,1), d=1\n",
    "plane1 = (e3 + einf).dual()\n",
    "print(plane1)\n",
    "# make plane from 3 points: (0,0,1), (1,0,1), (0,1,1) equal with z=1\n",
    "plane1_ = up(e3) ^ up(e1 + e3) ^ up(e2 + e3) ^ einf\n",
    "print(plane1_)"
   ]
  },
  {
   "cell_type": "code",
   "execution_count": 55,
   "metadata": {},
   "outputs": [
    {
     "name": "stdout",
     "output_type": "stream",
     "text": [
      "-(1.0^e1245) + (1.0^e2345)\n"
     ]
    }
   ],
   "source": [
    "# z=x: n=(-1,0,1), d=0\n",
    "plane2 = (-e1 + e3).dual()\n",
    "print(plane2)"
   ]
  },
  {
   "cell_type": "code",
   "execution_count": 70,
   "metadata": {},
   "outputs": [],
   "source": [
    "import math, clifford\n",
    "def angle(o1: clifford.MultiVector, o2: clifford.MultiVector):\n",
    "    return (o1.dual()|o2.dual()) / (abs(o1.dual()) * abs(o2.dual()))"
   ]
  },
  {
   "cell_type": "code",
   "execution_count": 73,
   "metadata": {},
   "outputs": [
    {
     "name": "stdout",
     "output_type": "stream",
     "text": [
      "45.00000000000001\n"
     ]
    }
   ],
   "source": [
    "# angles between z=1 and z=x: 45[deg]\n",
    "print(math.acos(angle(plane1, plane2)) / pi * 180)"
   ]
  },
  {
   "cell_type": "code",
   "execution_count": 74,
   "metadata": {},
   "outputs": [
    {
     "name": "stdout",
     "output_type": "stream",
     "text": [
      "DrawPlane((1.0^e1234) + (1.0^e1235) - (1.0^e1245),rgb(255,0,0));\n",
      "DrawPlane(-(1.0^e1245) + (1.0^e2345),rgb(0,255,0));\n"
     ]
    }
   ],
   "source": [
    "from clifford.tools.g3c.GAOnline import *\n",
    "sc = GAScene()\n",
    "sc.add_plane(plane1, 'rgb(255,0,0)')\n",
    "sc.add_plane(plane2, 'rgb(0,255,0)')\n",
    "print(sc)"
   ]
  }
 ],
 "metadata": {
  "kernelspec": {
   "display_name": "Python 3",
   "language": "python",
   "name": "python3"
  },
  "language_info": {
   "codemirror_mode": {
    "name": "ipython",
    "version": 3
   },
   "file_extension": ".py",
   "mimetype": "text/x-python",
   "name": "python",
   "nbconvert_exporter": "python",
   "pygments_lexer": "ipython3",
   "version": "3.6.3"
  }
 },
 "nbformat": 4,
 "nbformat_minor": 2
}
