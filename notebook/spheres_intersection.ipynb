{
 "cells": [
  {
   "cell_type": "markdown",
   "metadata": {},
   "source": [
    "### Calculate intersection of two spheres (circle) by using CGA"
   ]
  },
  {
   "cell_type": "code",
   "execution_count": 103,
   "metadata": {},
   "outputs": [],
   "source": [
    "from clifford.g3c import *\n",
    "from numpy import e,pi"
   ]
  },
  {
   "cell_type": "code",
   "execution_count": 104,
   "metadata": {},
   "outputs": [
    {
     "name": "stdout",
     "output_type": "stream",
     "text": [
      "eo: -(0.5^e4) + (0.5^e5)\n",
      "einf: (1^e4) + (1^e5)\n"
     ]
    }
   ],
   "source": [
    "print('eo:', eo)\n",
    "print('einf:', einf)"
   ]
  },
  {
   "cell_type": "code",
   "execution_count": 111,
   "metadata": {},
   "outputs": [
    {
     "name": "stdout",
     "output_type": "stream",
     "text": [
      "sphere1: -(1.0^e4)\n",
      "sphere2: (1.0^e1) + (1.0^e2) + (1.0^e3) + (0.5^e4) + (1.5^e5)\n",
      "sphere3: (0.5^e1234) - (0.5^e1235) - (0.5^e1245) + (0.5^e1345) - (0.5^e2345)\n",
      "intersection of sphere1 and sphere2: (1.5^e123) + (1.0^e125) - (1.0^e135) + (1.0^e235)\n"
     ]
    }
   ],
   "source": [
    "# center: (0,0,0), radius: 1\n",
    "sphere1 = eo - 0.5 * einf\n",
    "print('sphere1:', sphere1)\n",
    "# center: (1,1,1), radius: 1\n",
    "sphere2 = e1 + e2 + e3 + einf + eo\n",
    "print('sphere2:', sphere2)\n",
    "# four points making spherical that follow: (0,0,0), (1,0,0), (0,1,0), (0,0,1)\n",
    "sphere3 = up(0) ^ up(e1) ^ up(e2) ^ up(e3)\n",
    "print('sphere3:',sphere3)\n",
    "circle = (sphere ^ sphere2).dual()\n",
    "print('intersection of sphere1 and sphere2:', circle)"
   ]
  },
  {
   "cell_type": "code",
   "execution_count": 112,
   "metadata": {},
   "outputs": [
    {
     "name": "stdout",
     "output_type": "stream",
     "text": [
      "DrawSphere(-(1.0^e4),rgb(255,0,0));\n",
      "DrawSphere((1.0^e1) + (1.0^e2) + (1.0^e3) + (0.5^e4) + (1.5^e5),rgb(0,0,255));\n",
      "DrawCircle((1.5^e123) + (1.0^e125) - (1.0^e135) + (1.0^e235),rgb(0,255,0));\n"
     ]
    }
   ],
   "source": [
    "from clifford.tools.g3c.GAOnline import *\n",
    "sc = GAScene()\n",
    "sc.add_sphere(sphere1, 'rgb(255,0,0)')\n",
    "sc.add_sphere(sphere2, 'rgb(0,0,255)')\n",
    "# sc.add_sphere(sphere3, 'rgb(255,0,255)')\n",
    "sc.add_circle(circle, 'rgb(0,255,0)')\n",
    "print(sc)"
   ]
  }
 ],
 "metadata": {
  "kernelspec": {
   "display_name": "Python 3",
   "language": "python",
   "name": "python3"
  },
  "language_info": {
   "codemirror_mode": {
    "name": "ipython",
    "version": 3
   },
   "file_extension": ".py",
   "mimetype": "text/x-python",
   "name": "python",
   "nbconvert_exporter": "python",
   "pygments_lexer": "ipython3",
   "version": "3.6.3"
  }
 },
 "nbformat": 4,
 "nbformat_minor": 2
}
