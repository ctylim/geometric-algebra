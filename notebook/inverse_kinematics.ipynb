{
 "cells": [
  {
   "cell_type": "code",
   "execution_count": 5,
   "metadata": {},
   "outputs": [],
   "source": [
    "from clifford.g3c import *\n",
    "from numpy import e,pi\n",
    "import math\n",
    "from clifford.tools.g3c.GAOnline import *"
   ]
  },
  {
   "cell_type": "markdown",
   "metadata": {},
   "source": [
    "Given Constraints"
   ]
  },
  {
   "cell_type": "code",
   "execution_count": 6,
   "metadata": {},
   "outputs": [],
   "source": [
    "point0 = 2 * e3\n",
    "point3 = (math.sqrt(3) + 1) * e1 + 3 * e3\n",
    "plane3 = (e3 + 3 * einf).dual()\n",
    "d1 = 2\n",
    "d2 = 1\n",
    "d3 = math.sqrt(3)\n",
    "d4 = 1"
   ]
  },
  {
   "cell_type": "code",
   "execution_count": 7,
   "metadata": {},
   "outputs": [
    {
     "name": "stdout",
     "output_type": "stream",
     "text": [
      "DrawEucPoint((2^e3),rgb(255,0,0));\n",
      "DrawEucPoint((2.73205^e1) + (3.0^e3),rgb(0,255,0));\n",
      "DrawPlane((3.0^e1234) + (3.0^e1235) - (1.0^e1245),rgb(100,100,0));\n"
     ]
    }
   ],
   "source": [
    "sc = GAScene()\n",
    "sc.add_euc_point(point0, 'rgb(255,0,0)')\n",
    "sc.add_euc_point(point3, 'rgb(0,255,0)')\n",
    "sc.add_plane(plane3, 'rgb(100,100,0)')\n",
    "print(sc)"
   ]
  },
  {
   "cell_type": "markdown",
   "metadata": {},
   "source": [
    "Inverse Kinematics"
   ]
  },
  {
   "cell_type": "code",
   "execution_count": 8,
   "metadata": {},
   "outputs": [],
   "source": [
    "plane1 = up(0) ^ up(point0) ^ up(point3) ^ einf\n",
    "sphere3 = up(point3) - 0.5 * (d4 ** 2) * einf"
   ]
  },
  {
   "cell_type": "code",
   "execution_count": 9,
   "metadata": {
    "scrolled": true
   },
   "outputs": [
    {
     "name": "stdout",
     "output_type": "stream",
     "text": [
      "DrawEucPoint((2^e3),rgb(255,0,0));\n",
      "DrawEucPoint((2.73205^e1) + (3.0^e3),rgb(0,255,0));\n",
      "DrawPlane((3.0^e1234) + (3.0^e1235) - (1.0^e1245),rgb(100,100,0));\n",
      "DrawPlane((5.4641^e1345),rgb(0,100,100));\n",
      "DrawSphere((2.73205^e1) + (3.0^e3) + (7.23205^e4) + (8.23205^e5),rgb(100,100,0));\n"
     ]
    }
   ],
   "source": [
    "sc = GAScene()\n",
    "sc.add_euc_point(point0, 'rgb(255,0,0)')\n",
    "sc.add_euc_point(point3, 'rgb(0,255,0)')\n",
    "sc.add_plane(plane3, 'rgb(100,100,0)')\n",
    "sc.add_plane(plane1, 'rgb(0,100,100)')\n",
    "sc.add_sphere(sphere3, 'rgb(100,100,0)')\n",
    "print(sc)"
   ]
  },
  {
   "cell_type": "code",
   "execution_count": 40,
   "metadata": {},
   "outputs": [],
   "source": [
    "pair2 = (sphere3 ^ plane3.dual() ^ plane1.dual()).dual()"
   ]
  },
  {
   "cell_type": "code",
   "execution_count": 41,
   "metadata": {},
   "outputs": [
    {
     "name": "stdout",
     "output_type": "stream",
     "text": [
      "DrawEucPoint((2^e3),rgb(255,0,0));\n",
      "DrawEucPoint((2.73205^e1) + (3.0^e3),rgb(0,255,0));\n",
      "DrawPlane((3.0^e1234) + (3.0^e1235) - (1.0^e1245),rgb(100,100,0));\n",
      "DrawPlane((5.4641^e1345),rgb(0,100,100));\n",
      "DrawSphere((2.73205^e1) + (3.0^e3) + (7.23205^e4) + (8.23205^e5),rgb(100,100,0));\n",
      "DrawPointPair(-(16.3923^e13) - (4.19615^e14) - (9.66025^e15) + (44.78461^e34) + (44.78461^e35) - (14.9282^e45),rgb(200,200,200));\n"
     ]
    }
   ],
   "source": [
    "sc = GAScene()\n",
    "sc.add_euc_point(point0, 'rgb(255,0,0)')\n",
    "sc.add_euc_point(point3, 'rgb(0,255,0)')\n",
    "sc.add_plane(plane3, 'rgb(100,100,0)')\n",
    "sc.add_plane(plane1, 'rgb(0,100,100)')\n",
    "sc.add_sphere(sphere3, 'rgb(100,100,0)')\n",
    "sc.add_point_pair(pair2, 'rgb(200,200,200)')\n",
    "print(sc)"
   ]
  },
  {
   "cell_type": "code",
   "execution_count": 45,
   "metadata": {},
   "outputs": [],
   "source": [
    "import clifford, math\n",
    "def dissect_point_pair(pp: clifford.MultiVector):\n",
    "    pm = (pp | (einf ^ pp)) - (pp | pp) * einf\n",
    "    pr = math.sqrt(pp | pp) * (einf | pp)\n",
    "    pn = (einf | pp) ** 2\n",
    "    return down((pm + pr) / pn), down((pm - pr) / pn)"
   ]
  },
  {
   "cell_type": "code",
   "execution_count": 47,
   "metadata": {},
   "outputs": [],
   "source": [
    "pair2_1, pair2_2 = dissect_point_pair(pair2)"
   ]
  },
  {
   "cell_type": "code",
   "execution_count": 49,
   "metadata": {},
   "outputs": [
    {
     "name": "stdout",
     "output_type": "stream",
     "text": [
      "DrawEucPoint((2^e3),rgb(255,0,0));\n",
      "DrawEucPoint((2.73205^e1) + (3.0^e3),rgb(0,255,0));\n",
      "DrawPlane((3.0^e1234) + (3.0^e1235) - (1.0^e1245),rgb(100,100,0));\n",
      "DrawSphere((2.73205^e1) + (3.0^e3) + (7.23205^e4) + (8.23205^e5),rgb(100,100,0));\n",
      "DrawEucPoint((3.73205^e1) + (3.0^e3),rgb(200,200,200));\n",
      "DrawEucPoint((1.73205^e1) + (3.0^e3),rgb(200,200,200));\n"
     ]
    }
   ],
   "source": [
    "sc = GAScene()\n",
    "sc.add_euc_point(point0, 'rgb(255,0,0)')\n",
    "sc.add_euc_point(point3, 'rgb(0,255,0)')\n",
    "sc.add_plane(plane3, 'rgb(100,100,0)')\n",
    "sc.add_sphere(sphere3, 'rgb(100,100,0)')\n",
    "sc.add_euc_point(pair2_1, 'rgb(200,200,200)')\n",
    "sc.add_euc_point(pair2_2, 'rgb(200,200,200)')\n",
    "print(sc)"
   ]
  },
  {
   "cell_type": "code",
   "execution_count": 13,
   "metadata": {},
   "outputs": [],
   "source": [
    "sphere1 = up(point0) - 0.5 * (d2 ** 2) * einf"
   ]
  }
 ],
 "metadata": {
  "kernelspec": {
   "display_name": "Python 3",
   "language": "python",
   "name": "python3"
  },
  "language_info": {
   "codemirror_mode": {
    "name": "ipython",
    "version": 3
   },
   "file_extension": ".py",
   "mimetype": "text/x-python",
   "name": "python",
   "nbconvert_exporter": "python",
   "pygments_lexer": "ipython3",
   "version": "3.6.2"
  }
 },
 "nbformat": 4,
 "nbformat_minor": 2
}
