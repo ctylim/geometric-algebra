{
 "cells": [
  {
   "cell_type": "code",
   "execution_count": 8,
   "metadata": {},
   "outputs": [],
   "source": [
    "from clifford.g3c import *\n",
    "from numpy import e,pi\n",
    "import math\n",
    "from clifford.tools.g3c.GAOnline import *"
   ]
  },
  {
   "cell_type": "markdown",
   "metadata": {},
   "source": [
    "Given Constraints"
   ]
  },
  {
   "cell_type": "code",
   "execution_count": 16,
   "metadata": {},
   "outputs": [],
   "source": [
    "point0 = 2 * e3\n",
    "point3 = (math.sqrt(3) + 1) * e1 + 3 * e3\n",
    "plane3 = (e3 + 3 * einf).dual()\n",
    "d1 = 2\n",
    "d2 = 1\n",
    "d3 = math.sqrt(3)\n",
    "d4 = 1"
   ]
  },
  {
   "cell_type": "code",
   "execution_count": 17,
   "metadata": {},
   "outputs": [
    {
     "name": "stdout",
     "output_type": "stream",
     "text": [
      "DrawEucPoint((2^e3),rgb(255,0,0));\n",
      "DrawEucPoint((2.73205^e1) + (3.0^e3),rgb(0,255,0));\n",
      "DrawPlane((3.0^e1234) + (3.0^e1235) - (1.0^e1245),rgb(100,100,0));\n"
     ]
    }
   ],
   "source": [
    "sc = GAScene()\n",
    "sc.add_euc_point(point0, 'rgb(255,0,0)')\n",
    "sc.add_euc_point(point3, 'rgb(0,255,0)')\n",
    "sc.add_plane(plane3, 'rgb(100,100,0)')\n",
    "print(sc)"
   ]
  },
  {
   "cell_type": "markdown",
   "metadata": {},
   "source": [
    "Inverse Kinematics"
   ]
  },
  {
   "cell_type": "code",
   "execution_count": 30,
   "metadata": {},
   "outputs": [],
   "source": [
    "plane1 = up(0) ^ up(p0) ^ up(p3) ^ einf\n",
    "sphere3 = up(point3) - 0.5 * (d4 ** 2) * einf"
   ]
  },
  {
   "cell_type": "code",
   "execution_count": 32,
   "metadata": {
    "scrolled": true
   },
   "outputs": [
    {
     "name": "stdout",
     "output_type": "stream",
     "text": [
      "DrawEucPoint((2^e3),rgb(255,0,0));\n",
      "DrawEucPoint((2.73205^e1) + (3.0^e3),rgb(0,255,0));\n",
      "DrawPlane((3.0^e1234) + (3.0^e1235) - (1.0^e1245),rgb(100,100,0));\n",
      "DrawPlane((5.4641^e1345),rgb(0,100,100));\n",
      "DrawSphere((2.73205^e1) + (3.0^e3) + (7.23205^e4) + (8.23205^e5),rgb(100,100,0));\n"
     ]
    }
   ],
   "source": [
    "sc = GAScene()\n",
    "sc.add_euc_point(point0, 'rgb(255,0,0)')\n",
    "sc.add_euc_point(point3, 'rgb(0,255,0)')\n",
    "sc.add_plane(plane3, 'rgb(100,100,0)')\n",
    "sc.add_plane(plane1, 'rgb(0,100,100)')\n",
    "sc.add_sphere(sphere3, 'rgb(100,100,0)')\n",
    "print(sc)"
   ]
  },
  {
   "cell_type": "code",
   "execution_count": 36,
   "metadata": {},
   "outputs": [],
   "source": [
    "pair2 = (sphere3 ^ plane3.dual() ^ plane1.dual()).dual()"
   ]
  },
  {
   "cell_type": "code",
   "execution_count": 37,
   "metadata": {},
   "outputs": [
    {
     "name": "stdout",
     "output_type": "stream",
     "text": [
      "DrawEucPoint((2^e3),rgb(255,0,0));\n",
      "DrawEucPoint((2.73205^e1) + (3.0^e3),rgb(0,255,0));\n",
      "DrawPlane((3.0^e1234) + (3.0^e1235) - (1.0^e1245),rgb(100,100,0));\n",
      "DrawPlane((5.4641^e1345),rgb(0,100,100));\n",
      "DrawSphere((2.73205^e1) + (3.0^e3) + (7.23205^e4) + (8.23205^e5),rgb(100,100,0));\n",
      "DrawPointPair(-(16.3923^e13) - (4.19615^e14) - (9.66025^e15) + (44.78461^e34) + (44.78461^e35) - (14.9282^e45),rgb(200,200,200));\n"
     ]
    }
   ],
   "source": [
    "sc = GAScene()\n",
    "sc.add_euc_point(point0, 'rgb(255,0,0)')\n",
    "sc.add_euc_point(point3, 'rgb(0,255,0)')\n",
    "sc.add_plane(plane3, 'rgb(100,100,0)')\n",
    "sc.add_plane(plane1, 'rgb(0,100,100)')\n",
    "sc.add_sphere(sphere3, 'rgb(100,100,0)')\n",
    "sc.add_point_pair(pair2, 'rgb(200,200,200)')\n",
    "print(sc)"
   ]
  },
  {
   "cell_type": "code",
   "execution_count": null,
   "metadata": {},
   "outputs": [],
   "source": [
    "sphere1 = up(point0) - 0.5 * (d2 ** 2) * einf"
   ]
  }
 ],
 "metadata": {
  "kernelspec": {
   "display_name": "Python 3",
   "language": "python",
   "name": "python3"
  },
  "language_info": {
   "codemirror_mode": {
    "name": "ipython",
    "version": 3
   },
   "file_extension": ".py",
   "mimetype": "text/x-python",
   "name": "python",
   "nbconvert_exporter": "python",
   "pygments_lexer": "ipython3",
   "version": "3.6.3"
  }
 },
 "nbformat": 4,
 "nbformat_minor": 2
}
